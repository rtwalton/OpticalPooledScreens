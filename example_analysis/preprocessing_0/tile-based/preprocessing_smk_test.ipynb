{
 "cells": [
  {
   "cell_type": "code",
   "execution_count": 1,
   "id": "ed6232bf-7056-4104-95df-7fd4e6e24922",
   "metadata": {},
   "outputs": [],
   "source": [
    "import ops\n",
    "import glob\n",
    "import os\n",
    "from ops.preprocessing_smk import *\n",
    "\n",
    "def find_and_parse_file(pattern, well='A1', cycle=None, tiles=None):\n",
    "    if tiles is None:\n",
    "        tiles = [1]  # Default to tile 1 if no tiles specified\n",
    "    \n",
    "    for tile in tiles:\n",
    "        # Replace placeholders in the pattern\n",
    "        filled_pattern = pattern.format(cycle=cycle, well=well, tile=f\"{tile:03d}\")\n",
    "        \n",
    "        # Find files matching the pattern\n",
    "        matching_files = glob.glob(filled_pattern)\n",
    "        \n",
    "        if matching_files:\n",
    "            # Select the first matching file\n",
    "            file_to_parse = matching_files[0]\n",
    "            print(f\"Found file for tile {tile}: {file_to_parse}\")\n",
    "            \n",
    "            # Parse the file\n",
    "            try:\n",
    "                file_description = parse_file(file_to_parse, home=parse_function_home, dataset=parse_function_dataset)\n",
    "                print(f\"File description for tile {tile}:\")\n",
    "                print(file_description)\n",
    "                print(\"-\" * 50)\n",
    "            except Exception as e:\n",
    "                print(f\"Error parsing file for tile {tile}: {e}\")\n",
    "        else:\n",
    "            print(f\"No files found matching pattern for tile {tile}: {filled_pattern}\")"
   ]
  },
  {
   "cell_type": "markdown",
   "id": "5175dedc-0d72-4424-8806-517cf3c85b4f",
   "metadata": {},
   "source": [
    "### Check if file patterns are according to plan:"
   ]
  },
  {
   "cell_type": "markdown",
   "id": "913d7266-de42-406e-b905-3fcfc85e87a2",
   "metadata": {},
   "source": [
    "The following cell contains crucial variables that need to be set according to your specific experimental setup and data organization. Please review and modify these variables as needed before proceeding with the analysis.\n",
    "\n",
    "- `PH_CHANNELS` and `SBS_CHANNELS`: The channel names for Phenotyping and Sequencing By Synthesis images\n",
    "- `SBS_INPUT_PATTERN` and `PH_INPUT_PATTERN`: The file naming conventions and directory structures for SBS and PH images\n",
    "- `parse_function_home` and `parse_function_dataset`: The base directory and dataset name for the parsing function\n",
    "\n",
    "Ensure these variables accurately reflect your experimental setup to guarantee correct data processing and analysis.\n",
    "\n",
    "Acceptable ND2 File Format:\n",
    "The parsing functions expect ND2 files to follow these naming conventions:\n",
    "1. Cycle information (for SBS only) should be in a subdirectory named '/c{number}/' in the file path.\n",
    "2. Well information should be present as 'Wells-XX_' or 'WellXX_' in the filename.\n",
    "3. For multi-tile experiments, tile information should be present as 'Points-####' in the filename.\n",
    "4. Channel information should be present as 'Channel{name}_' in the filename.\n",
    "5. Phenotype images should have 'input_ph' in the file path.\n",
    "6. SBS images should have 'input_sbs' in the file path.\n",
    "\n",
    "Example acceptable filenames:\n",
    "\n",
    "With tile information:\n",
    "- SBS: /lab/example/screens/dataset/input_sbs/c1/acquisition_date_folder/Wells-A1_Points-0001_ChannelDAPI_Seq0000.nd2\n",
    "- PH:  /lab/example/screens/dataset/input_ph/acquisition_date_folder/Wells-A1_Points-0001_ChannelDAPI_Seq0000.nd2\n",
    "\n",
    "Without tile information:\n",
    "- SBS: /lab/example/screens/dataset/input_sbs/c1/acquisition_date_folder/Wells-A1_ChannelDAPI_Seq0000.nd2\n",
    "- PH:  /lab/example/screens/dataset/input_ph/acquisition_date_folder/Wells-A1_ChannelDAPI_Seq0000.nd2"
   ]
  },
  {
   "cell_type": "code",
   "execution_count": 2,
   "id": "85a6bd20-9160-42cf-9daa-745354a81fa6",
   "metadata": {
    "tags": []
   },
   "outputs": [
    {
     "name": "stdout",
     "output_type": "stream",
     "text": [
      "Testing SBS_INPUT_PATTERN:\n",
      "Found file for tile 1: /lab/barcheese01/screens/denali/input_sbs/c1/P001_SBS_10x_C1_Wells-A1_Points-001__Channel_Cy7,Cy5,AF594,Cy3_SBS,DAPI_SBS.nd2\n",
      "File description for tile 1:\n",
      "{'home': '/lab/barcheese01/screens', 'dataset': 'denali', 'ext': 'tif', 'well': 'A1', 'mag': '10X', 'tag': 'sbs', 'cycle': 'c1-SBS-1', 'subdir': 'input_sbs_tif'}\n",
      "--------------------------------------------------\n",
      "Found file for tile 100: /lab/barcheese01/screens/denali/input_sbs/c1/P001_SBS_10x_C1_Wells-A1_Points-100__Channel_Cy7,Cy5,AF594,Cy3_SBS,DAPI_SBS.nd2\n",
      "File description for tile 100:\n",
      "{'home': '/lab/barcheese01/screens', 'dataset': 'denali', 'ext': 'tif', 'well': 'A1', 'mag': '10X', 'tag': 'sbs', 'cycle': 'c1-SBS-1', 'subdir': 'input_sbs_tif'}\n",
      "--------------------------------------------------\n",
      "\n",
      "Testing PH_INPUT_PATTERN:\n",
      "Found file for tile 1: /lab/barcheese01/screens/denali/input_ph/20240121_140219_589/P001_Pheno_20x_Wells-A1_Points-001__Channel_AF750,Cy3,GFP,DAPI.nd2\n",
      "File description for tile 1:\n",
      "{'home': '/lab/barcheese01/screens', 'dataset': 'denali', 'ext': 'tif', 'well': 'A1', 'mag': '20X', 'tag': 'phenotype', 'subdir': 'input_ph_tif'}\n",
      "--------------------------------------------------\n",
      "Found file for tile 100: /lab/barcheese01/screens/denali/input_ph/20240121_140219_589/P001_Pheno_20x_Wells-A1_Points-100__Channel_AF750,Cy3,GFP,DAPI.nd2\n",
      "File description for tile 100:\n",
      "{'home': '/lab/barcheese01/screens', 'dataset': 'denali', 'ext': 'tif', 'well': 'A1', 'mag': '20X', 'tag': 'phenotype', 'subdir': 'input_ph_tif'}\n",
      "--------------------------------------------------\n",
      "Found file for tile 1000: /lab/barcheese01/screens/denali/input_ph/20240121_140219_589/P001_Pheno_20x_Wells-A1_Points-1000__Channel_AF750,Cy3,GFP,DAPI.nd2\n",
      "File description for tile 1000:\n",
      "{'home': '/lab/barcheese01/screens', 'dataset': 'denali', 'ext': 'tif', 'well': 'A1', 'mag': '20X', 'tag': 'phenotype', 'subdir': 'input_ph_tif'}\n",
      "--------------------------------------------------\n"
     ]
    }
   ],
   "source": [
    "# File patterns for SBS and PH images\n",
    "SBS_INPUT_PATTERN = '/lab/barcheese01/screens/denali/input_sbs/c{cycle}/*Wells-{well}_Points-{tile:0>3}__Channel*.nd2'\n",
    "PH_INPUT_PATTERN = '/lab/barcheese01/screens/denali/input_ph/**/*Wells-{well}_Points-{tile:0>3}__Channel*.nd2'\n",
    "\n",
    "# Parse function parameters\n",
    "parse_function_home = \"/lab/barcheese01/screens\"\n",
    "parse_function_dataset = \"denali\"\n",
    "\n",
    "# Test SBS_INPUT_PATTERN\n",
    "print(\"Testing SBS_INPUT_PATTERN:\")\n",
    "sbs_parsed = find_and_parse_file(SBS_INPUT_PATTERN, cycle=1, tiles=[1, 100])\n",
    "\n",
    "# Test PH_INPUT_PATTERN\n",
    "print(\"\\nTesting PH_INPUT_PATTERN:\")\n",
    "ph_parsed = find_and_parse_file(PH_INPUT_PATTERN, tiles=[1, 100, 1000])"
   ]
  },
  {
   "cell_type": "code",
   "execution_count": null,
   "id": "d2feea9c-6df9-46f3-8ff0-ef76266032b0",
   "metadata": {},
   "outputs": [],
   "source": []
  }
 ],
 "metadata": {
  "kernelspec": {
   "display_name": "venv_ops_new",
   "language": "python",
   "name": "venv_ops_new"
  },
  "language_info": {
   "codemirror_mode": {
    "name": "ipython",
    "version": 3
   },
   "file_extension": ".py",
   "mimetype": "text/x-python",
   "name": "python",
   "nbconvert_exporter": "python",
   "pygments_lexer": "ipython3",
   "version": "3.8.13"
  }
 },
 "nbformat": 4,
 "nbformat_minor": 5
}
